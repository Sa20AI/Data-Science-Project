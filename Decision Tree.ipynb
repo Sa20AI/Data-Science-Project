{
 "cells": [
  {
   "cell_type": "code",
   "execution_count": 1,
   "metadata": {},
   "outputs": [],
   "source": [
    "import pandas as pd\n",
    "import numpy as np\n",
    "mydata = pd.read_csv('50_Startups.csv')"
   ]
  },
  {
   "cell_type": "code",
   "execution_count": 2,
   "metadata": {},
   "outputs": [
    {
     "data": {
      "text/html": [
       "<div>\n",
       "<style scoped>\n",
       "    .dataframe tbody tr th:only-of-type {\n",
       "        vertical-align: middle;\n",
       "    }\n",
       "\n",
       "    .dataframe tbody tr th {\n",
       "        vertical-align: top;\n",
       "    }\n",
       "\n",
       "    .dataframe thead th {\n",
       "        text-align: right;\n",
       "    }\n",
       "</style>\n",
       "<table border=\"1\" class=\"dataframe\">\n",
       "  <thead>\n",
       "    <tr style=\"text-align: right;\">\n",
       "      <th></th>\n",
       "      <th>R&amp;D Spend</th>\n",
       "      <th>Administration</th>\n",
       "      <th>Marketing Spend</th>\n",
       "      <th>Profit</th>\n",
       "    </tr>\n",
       "  </thead>\n",
       "  <tbody>\n",
       "    <tr>\n",
       "      <th>count</th>\n",
       "      <td>50.000000</td>\n",
       "      <td>50.000000</td>\n",
       "      <td>50.000000</td>\n",
       "      <td>50.000000</td>\n",
       "    </tr>\n",
       "    <tr>\n",
       "      <th>mean</th>\n",
       "      <td>73721.615600</td>\n",
       "      <td>121344.639600</td>\n",
       "      <td>211025.097800</td>\n",
       "      <td>112012.639200</td>\n",
       "    </tr>\n",
       "    <tr>\n",
       "      <th>std</th>\n",
       "      <td>45902.256482</td>\n",
       "      <td>28017.802755</td>\n",
       "      <td>122290.310726</td>\n",
       "      <td>40306.180338</td>\n",
       "    </tr>\n",
       "    <tr>\n",
       "      <th>min</th>\n",
       "      <td>0.000000</td>\n",
       "      <td>51283.140000</td>\n",
       "      <td>0.000000</td>\n",
       "      <td>14681.400000</td>\n",
       "    </tr>\n",
       "    <tr>\n",
       "      <th>25%</th>\n",
       "      <td>39936.370000</td>\n",
       "      <td>103730.875000</td>\n",
       "      <td>129300.132500</td>\n",
       "      <td>90138.902500</td>\n",
       "    </tr>\n",
       "    <tr>\n",
       "      <th>50%</th>\n",
       "      <td>73051.080000</td>\n",
       "      <td>122699.795000</td>\n",
       "      <td>212716.240000</td>\n",
       "      <td>107978.190000</td>\n",
       "    </tr>\n",
       "    <tr>\n",
       "      <th>75%</th>\n",
       "      <td>101602.800000</td>\n",
       "      <td>144842.180000</td>\n",
       "      <td>299469.085000</td>\n",
       "      <td>139765.977500</td>\n",
       "    </tr>\n",
       "    <tr>\n",
       "      <th>max</th>\n",
       "      <td>165349.200000</td>\n",
       "      <td>182645.560000</td>\n",
       "      <td>471784.100000</td>\n",
       "      <td>192261.830000</td>\n",
       "    </tr>\n",
       "  </tbody>\n",
       "</table>\n",
       "</div>"
      ],
      "text/plain": [
       "           R&D Spend  Administration  Marketing Spend         Profit\n",
       "count      50.000000       50.000000        50.000000      50.000000\n",
       "mean    73721.615600   121344.639600    211025.097800  112012.639200\n",
       "std     45902.256482    28017.802755    122290.310726   40306.180338\n",
       "min         0.000000    51283.140000         0.000000   14681.400000\n",
       "25%     39936.370000   103730.875000    129300.132500   90138.902500\n",
       "50%     73051.080000   122699.795000    212716.240000  107978.190000\n",
       "75%    101602.800000   144842.180000    299469.085000  139765.977500\n",
       "max    165349.200000   182645.560000    471784.100000  192261.830000"
      ]
     },
     "execution_count": 2,
     "metadata": {},
     "output_type": "execute_result"
    }
   ],
   "source": [
    "mydata.describe()"
   ]
  },
  {
   "cell_type": "code",
   "execution_count": 3,
   "metadata": {},
   "outputs": [
    {
     "name": "stdout",
     "output_type": "stream",
     "text": [
      "[[165349.2  136897.8  471784.1 ]\n",
      " [162597.7  151377.59 443898.53]\n",
      " [153441.51 101145.55 407934.54]\n",
      " [144372.41 118671.85 383199.62]\n",
      " [142107.34  91391.77 366168.42]\n",
      " [131876.9   99814.71 362861.36]\n",
      " [134615.46 147198.87 127716.82]\n",
      " [130298.13 145530.06 323876.68]\n",
      " [120542.52 148718.95 311613.29]\n",
      " [123334.88 108679.17 304981.62]\n",
      " [101913.08 110594.11 229160.95]\n",
      " [100671.96  91790.61 249744.55]\n",
      " [ 93863.75 127320.38 249839.44]\n",
      " [ 91992.39 135495.07 252664.93]\n",
      " [119943.24 156547.42 256512.92]\n",
      " [114523.61 122616.84 261776.23]\n",
      " [ 78013.11 121597.55 264346.06]\n",
      " [ 94657.16 145077.58 282574.31]\n",
      " [ 91749.16 114175.79 294919.57]\n",
      " [ 86419.7  153514.11      0.  ]\n",
      " [ 76253.86 113867.3  298664.47]\n",
      " [ 78389.47 153773.43 299737.29]\n",
      " [ 73994.56 122782.75 303319.26]\n",
      " [ 67532.53 105751.03 304768.73]\n",
      " [ 77044.01  99281.34 140574.81]\n",
      " [ 64664.71 139553.16 137962.62]\n",
      " [ 75328.87 144135.98 134050.07]\n",
      " [ 72107.6  127864.55 353183.81]\n",
      " [ 66051.52 182645.56 118148.2 ]\n",
      " [ 65605.48 153032.06 107138.38]\n",
      " [ 61994.48 115641.28  91131.24]\n",
      " [ 61136.38 152701.92  88218.23]\n",
      " [ 63408.86 129219.61  46085.25]\n",
      " [ 55493.95 103057.49 214634.81]\n",
      " [ 46426.07 157693.92 210797.67]\n",
      " [ 46014.02  85047.44 205517.64]\n",
      " [ 28663.76 127056.21 201126.82]\n",
      " [ 44069.95  51283.14 197029.42]\n",
      " [ 20229.59  65947.93 185265.1 ]\n",
      " [ 38558.51  82982.09 174999.3 ]\n",
      " [ 28754.33 118546.05 172795.67]\n",
      " [ 27892.92  84710.77 164470.71]\n",
      " [ 23640.93  96189.63 148001.11]\n",
      " [ 15505.73 127382.3   35534.17]\n",
      " [ 22177.74 154806.14  28334.72]\n",
      " [  1000.23 124153.04   1903.93]\n",
      " [  1315.46 115816.21 297114.46]\n",
      " [     0.   135426.92      0.  ]\n",
      " [   542.05  51743.15      0.  ]\n",
      " [     0.   116983.8   45173.06]]\n",
      "[192261.83 191792.06 191050.39 182901.99 166187.94 156991.12 156122.51\n",
      " 155752.6  152211.77 149759.96 146121.95 144259.4  141585.52 134307.35\n",
      " 132602.65 129917.04 126992.93 125370.37 124266.9  122776.86 118474.03\n",
      " 111313.02 110352.25 108733.99 108552.04 107404.34 105733.54 105008.31\n",
      " 103282.38 101004.64  99937.59  97483.56  97427.84  96778.92  96712.8\n",
      "  96479.51  90708.19  89949.14  81229.06  81005.76  78239.91  77798.83\n",
      "  71498.49  69758.98  65200.33  64926.08  49490.75  42559.73  35673.41\n",
      "  14681.4 ]\n"
     ]
    }
   ],
   "source": [
    "X = mydata.drop(['Profit'], axis= 1).values\n",
    "y = mydata['Profit'].values\n",
    "print(X)\n",
    "print(y)\n"
   ]
  },
  {
   "cell_type": "code",
   "execution_count": 4,
   "metadata": {},
   "outputs": [
    {
     "data": {
      "text/plain": [
       "(50, 3)"
      ]
     },
     "execution_count": 4,
     "metadata": {},
     "output_type": "execute_result"
    }
   ],
   "source": [
    "X.shape"
   ]
  },
  {
   "cell_type": "code",
   "execution_count": 5,
   "metadata": {},
   "outputs": [
    {
     "name": "stdout",
     "output_type": "stream",
     "text": [
      "[[165349.2  136897.8  471784.1 ]\n",
      " [162597.7  151377.59 443898.53]\n",
      " [153441.51 101145.55 407934.54]\n",
      " [144372.41 118671.85 383199.62]\n",
      " [142107.34  91391.77 366168.42]\n",
      " [131876.9   99814.71 362861.36]\n",
      " [134615.46 147198.87 127716.82]\n",
      " [130298.13 145530.06 323876.68]\n",
      " [120542.52 148718.95 311613.29]\n",
      " [123334.88 108679.17 304981.62]]\n"
     ]
    }
   ],
   "source": [
    "print(X[:10])"
   ]
  },
  {
   "cell_type": "code",
   "execution_count": 6,
   "metadata": {},
   "outputs": [],
   "source": [
    "from sklearn.model_selection import train_test_split\n",
    "X_train, X_test, y_train, y_test = train_test_split(X, y, test_size= 0.20)\n"
   ]
  },
  {
   "cell_type": "code",
   "execution_count": 7,
   "metadata": {},
   "outputs": [
    {
     "name": "stdout",
     "output_type": "stream",
     "text": [
      "(40, 3) (10, 3) (40,) (10,)\n"
     ]
    }
   ],
   "source": [
    "print(X_train.shape, X_test.shape, y_train.shape, y_test.shape)"
   ]
  },
  {
   "cell_type": "code",
   "execution_count": 8,
   "metadata": {},
   "outputs": [],
   "source": [
    "from sklearn.tree import DecisionTreeRegressor"
   ]
  },
  {
   "cell_type": "code",
   "execution_count": 9,
   "metadata": {},
   "outputs": [],
   "source": [
    "LL_dt = DecisionTreeRegressor().fit(X_train, y_train)"
   ]
  },
  {
   "cell_type": "code",
   "execution_count": 10,
   "metadata": {},
   "outputs": [
    {
     "name": "stdout",
     "output_type": "stream",
     "text": [
      "The training r_sq is: 1.00\n"
     ]
    }
   ],
   "source": [
    "print('The training r_sq is: %.2f'% LL_dt.score(X_train, y_train))"
   ]
  },
  {
   "cell_type": "code",
   "execution_count": 11,
   "metadata": {},
   "outputs": [],
   "source": [
    "from sklearn.metrics import mean_absolute_error, mean_squared_error, explained_variance_score, r2_score"
   ]
  },
  {
   "cell_type": "code",
   "execution_count": 12,
   "metadata": {},
   "outputs": [],
   "source": [
    "ytrain_pred = LL_dt.predict(X_train)"
   ]
  },
  {
   "cell_type": "code",
   "execution_count": 13,
   "metadata": {},
   "outputs": [
    {
     "name": "stdout",
     "output_type": "stream",
     "text": [
      "The r_sq is: 1.0\n"
     ]
    }
   ],
   "source": [
    "print(\"The r_sq is:\", r2_score(y_train, ytrain_pred))"
   ]
  },
  {
   "cell_type": "code",
   "execution_count": 14,
   "metadata": {},
   "outputs": [
    {
     "name": "stdout",
     "output_type": "stream",
     "text": [
      "The MAE is:  0.0\n"
     ]
    }
   ],
   "source": [
    "print(\"The MAE is: \",mean_absolute_error(y_train, ytrain_pred))"
   ]
  },
  {
   "cell_type": "code",
   "execution_count": 15,
   "metadata": {},
   "outputs": [
    {
     "name": "stdout",
     "output_type": "stream",
     "text": [
      "The MSE is:  0.0\n"
     ]
    }
   ],
   "source": [
    "print(\"The MSE is: \", mean_squared_error(y_train, ytrain_pred))"
   ]
  },
  {
   "cell_type": "code",
   "execution_count": 16,
   "metadata": {},
   "outputs": [
    {
     "name": "stdout",
     "output_type": "stream",
     "text": [
      "The RMSE is:  0.0\n"
     ]
    }
   ],
   "source": [
    "print(\"The RMSE is: \", np.sqrt(mean_absolute_error(y_train,ytrain_pred)))"
   ]
  },
  {
   "cell_type": "code",
   "execution_count": 17,
   "metadata": {},
   "outputs": [
    {
     "name": "stdout",
     "output_type": "stream",
     "text": [
      "The EVS is :  1.0\n"
     ]
    }
   ],
   "source": [
    "print(\"The EVS is : \", explained_variance_score(y_train, ytrain_pred))"
   ]
  },
  {
   "cell_type": "code",
   "execution_count": 18,
   "metadata": {},
   "outputs": [],
   "source": [
    "ytest_pred = LL_dt.predict(X_test)"
   ]
  },
  {
   "cell_type": "code",
   "execution_count": 19,
   "metadata": {},
   "outputs": [
    {
     "name": "stdout",
     "output_type": "stream",
     "text": [
      "The testing r_sq is: 0.89\n"
     ]
    }
   ],
   "source": [
    "print('The testing r_sq is: %.2f'% r2_score(y_test,ytest_pred))"
   ]
  },
  {
   "cell_type": "code",
   "execution_count": 20,
   "metadata": {},
   "outputs": [
    {
     "name": "stdout",
     "output_type": "stream",
     "text": [
      "The testing r_sq is : 0.89\n"
     ]
    }
   ],
   "source": [
    "print(\"The testing r_sq is : %.2f\"% LL_dt.score(X_test,y_test))"
   ]
  },
  {
   "cell_type": "code",
   "execution_count": 21,
   "metadata": {},
   "outputs": [
    {
     "data": {
      "image/png": "[encoded data removed]",
      "text/plain": [
       "<Figure size 432x288 with 1 Axes>"
      ]
     },
     "metadata": {
      "needs_background": "light"
     },
     "output_type": "display_data"
    }
   ],
   "source": [
    "import matplotlib.pyplot as plt\n",
    "\n",
    "plt.rcParams['figure.figsize'] = (10,6)\n",
    "x_ax = range(len(X_test))\n",
    "plt.plot(x_ax,y_test, label = 'Observed', color = 'k', linestyle = '-')\n",
    "plt.plot(x_ax, ytest_pred, label = 'Predicted', color = 'k', linestyle = '--')\n",
    "plt.ylabel('Lake level (m)')\n",
    "plt.xlabel('Testing sample data')\n",
    "plt.legend(bbox_to_anchor = (0.5, -0.2), loc = 'lower center', ncol = 2,frameon = False)\n",
    "plt.show()"
   ]
  },
  {
   "cell_type": "code",
   "execution_count": 22,
   "metadata": {},
   "outputs": [
    {
     "data": {
      "image/png": "[encoded data removed]",
      "text/plain": [
       "<Figure size 576x396 with 1 Axes>"
      ]
     },
     "metadata": {},
     "output_type": "display_data"
    },
    {
     "data": {
      "text/plain": [
       "<AxesSubplot:title={'center':'Prediction Error for DecisionTreeRegressor'}, xlabel='$y$', ylabel='$\\\\hat{y}$'>"
      ]
     },
     "execution_count": 22,
     "metadata": {},
     "output_type": "execute_result"
    }
   ],
   "source": [
    "from yellowbrick.regressor import PredictionError\n",
    "visualizer = PredictionError(LL_dt)\n",
    "visualizer.fit(X_train, y_train)\n",
    "visualizer.score(X_test, y_test)\n",
    "visualizer.poof()"
   ]
  },
  {
   "cell_type": "code",
   "execution_count": 23,
   "metadata": {},
   "outputs": [
    {
     "data": {
      "image/png": "[encoded data removed]",
      "text/plain": [
       "<Figure size 576x396 with 2 Axes>"
      ]
     },
     "metadata": {},
     "output_type": "display_data"
    },
    {
     "data": {
      "text/plain": [
       "<AxesSubplot:title={'center':'Residuals for DecisionTreeRegressor Model'}, xlabel='Predicted Value', ylabel='Residuals'>"
      ]
     },
     "execution_count": 23,
     "metadata": {},
     "output_type": "execute_result"
    }
   ],
   "source": [
    "from yellowbrick.regressor import ResidualsPlot\n",
    "visualizer = ResidualsPlot(LL_dt)\n",
    "visualizer.fit(X_train, y_train)\n",
    "visualizer.score(X_test, y_test)\n",
    "visualizer.poof()\n"
   ]
  },
  {
   "cell_type": "code",
   "execution_count": 24,
   "metadata": {},
   "outputs": [
    {
     "name": "stdout",
     "output_type": "stream",
     "text": [
      "The MAE is: 8375.58\n"
     ]
    }
   ],
   "source": [
    "print(\"The MAE is: %.2f\"% mean_absolute_error(y_test, ytest_pred))"
   ]
  },
  {
   "cell_type": "code",
   "execution_count": 25,
   "metadata": {},
   "outputs": [
    {
     "name": "stdout",
     "output_type": "stream",
     "text": [
      "The MSE is: 140634886.08\n"
     ]
    }
   ],
   "source": [
    "print('The MSE is: %.2f'% mean_squared_error(y_test, ytest_pred))"
   ]
  },
  {
   "cell_type": "code",
   "execution_count": 26,
   "metadata": {},
   "outputs": [
    {
     "name": "stdout",
     "output_type": "stream",
     "text": [
      "The RMSE is: 11858.96\n"
     ]
    }
   ],
   "source": [
    "print(\"The RMSE is: %.2f\"% np.sqrt(mean_squared_error(y_test, ytest_pred)))"
   ]
  },
  {
   "cell_type": "code",
   "execution_count": 27,
   "metadata": {},
   "outputs": [
    {
     "name": "stdout",
     "output_type": "stream",
     "text": [
      "The EVS is: 0.89\n"
     ]
    }
   ],
   "source": [
    "print(\"The EVS is: %.2f\"% explained_variance_score(y_test, ytest_pred))"
   ]
  },
  {
   "cell_type": "code",
   "execution_count": 28,
   "metadata": {},
   "outputs": [],
   "source": [
    "from sklearn.model_selection import cross_val_score"
   ]
  },
  {
   "cell_type": "code",
   "execution_count": 29,
   "metadata": {},
   "outputs": [],
   "source": [
    "score_train = cross_val_score(LL_dt, X_train, y_train, scoring='neg_mean_squared_error', cv=10)"
   ]
  },
  {
   "cell_type": "code",
   "execution_count": 30,
   "metadata": {},
   "outputs": [
    {
     "data": {
      "text/plain": [
       "array([-4.56209664e+08, -1.12414140e+09, -1.15663626e+07, -6.73285143e+07,\n",
       "       -2.55098434e+08, -2.39843420e+08, -1.20382743e+08, -3.87368796e+08,\n",
       "       -1.44901241e+08, -1.19064032e+08])"
      ]
     },
     "execution_count": 30,
     "metadata": {},
     "output_type": "execute_result"
    }
   ],
   "source": [
    "score_train"
   ]
  },
  {
   "cell_type": "code",
   "execution_count": 31,
   "metadata": {},
   "outputs": [],
   "source": [
    "score_train = np.mean(score_train)"
   ]
  },
  {
   "cell_type": "code",
   "execution_count": 32,
   "metadata": {},
   "outputs": [
    {
     "data": {
      "text/plain": [
       "-292590460.33727247"
      ]
     },
     "execution_count": 32,
     "metadata": {},
     "output_type": "execute_result"
    }
   ],
   "source": [
    "score_train"
   ]
  },
  {
   "cell_type": "code",
   "execution_count": 33,
   "metadata": {},
   "outputs": [],
   "source": [
    "from numpy import absolute"
   ]
  },
  {
   "cell_type": "code",
   "execution_count": 34,
   "metadata": {},
   "outputs": [
    {
     "data": {
      "text/plain": [
       "292590460.33727247"
      ]
     },
     "execution_count": 34,
     "metadata": {},
     "output_type": "execute_result"
    }
   ],
   "source": [
    "score_train = absolute(score_train)\n",
    "score_train"
   ]
  },
  {
   "cell_type": "code",
   "execution_count": 35,
   "metadata": {},
   "outputs": [],
   "source": [
    "score_test = cross_val_score(LL_dt, X_test, y_test, scoring= 'neg_mean_squared_error', cv = 10)"
   ]
  },
  {
   "cell_type": "code",
   "execution_count": 36,
   "metadata": {},
   "outputs": [
    {
     "data": {
      "text/plain": [
       "array([-1.66651576e+08, -2.07531725e+09, -2.23624952e+07, -1.17664779e+07,\n",
       "       -2.53904830e+09, -2.25761143e+08, -7.14963425e+06, -1.36153426e+08,\n",
       "       -2.05703290e+08, -2.23624952e+07])"
      ]
     },
     "execution_count": 36,
     "metadata": {},
     "output_type": "execute_result"
    }
   ],
   "source": [
    "score_test"
   ]
  },
  {
   "cell_type": "code",
   "execution_count": 37,
   "metadata": {},
   "outputs": [
    {
     "data": {
      "text/plain": [
       "541227608.1222801"
      ]
     },
     "execution_count": 37,
     "metadata": {},
     "output_type": "execute_result"
    }
   ],
   "source": [
    "score_test = absolute(np.mean(score_test))\n",
    "score_test"
   ]
  },
  {
   "cell_type": "code",
   "execution_count": null,
   "metadata": {},
   "outputs": [],
   "source": []
  }
 ],
 "metadata": {
  "kernelspec": {
   "display_name": "Python 3.10.1 64-bit",
   "language": "python",
   "name": "python3"
  },
  "language_info": {
   "codemirror_mode": {
    "name": "ipython",
    "version": 3
   },
   "file_extension": ".py",
   "mimetype": "text/x-python",
   "name": "python",
   "nbconvert_exporter": "python",
   "pygments_lexer": "ipython3",
   "version": "3.10.1"
  },
  "orig_nbformat": 4,
  "vscode": {
   "interpreter": {
    "hash": "80ba4016e8ec853d7b55d6915013d2adae47c4b5f908295f8089a04cc277b65d"
   }
  }
 },
 "nbformat": 4,
 "nbformat_minor": 2
}
