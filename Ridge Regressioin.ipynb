{
 "cells": [
  {
   "cell_type": "code",
   "execution_count": 1,
   "metadata": {},
   "outputs": [],
   "source": [
    "import numpy as np\n",
    "import pandas as pd\n",
    "import matplotlib.pyplot as plt\n",
    "from sklearn.model_selection import train_test_split"
   ]
  },
  {
   "cell_type": "code",
   "execution_count": 5,
   "metadata": {},
   "outputs": [],
   "source": [
    "class Ridge:\n",
    "    \"\"\"Linear test square with L2 regularisation.\"\"\"\n",
    "    def __init__(self, lam):\n",
    "        \"\"\"Initialize a Ridge object.\n",
    "\n",
    "        Args:\n",
    "            lam: the regularisation factor\n",
    "        \"\"\"\n",
    "        self._lambda = lam\n",
    "    \n",
    "    def __x_bar(x):\n",
    "        \"\"\" Create the vector x_bar.\n",
    "\n",
    "        Args:\n",
    "            x: input vector\n",
    "        \"\"\"\n",
    "        return np.hstack(([1.0], x, np.square(x)))\n",
    "    \n",
    "    def fit(self, x_train, y_train):\n",
    "        \"\"\" Generate a fit for the data.\n",
    "\n",
    "        Args:\n",
    "            x_train: the input values of the training data\n",
    "            y_train: the output values of the training data\n",
    "        \"\"\"\n",
    "\n",
    "        X = np.vstack(([self._x_bar(x) for x in x_train]))\n",
    "        Y = np.vstack(([y for y in y_train]))\n",
    "\n",
    "        XT = np.transpose(X)\n",
    "        XTX = np.matmul(XT, X) + self._lambda * np.identity(X.shape[1])\n",
    "        self._coeff_hat = np.matmul(np.matmul(np.linalg.inv(XTX),XT),Y)"
   ]
  },
  {
   "cell_type": "code",
   "execution_count": 7,
   "metadata": {},
   "outputs": [
    {
     "ename": "TypeError",
     "evalue": "'float' object cannot be interpreted as an integer",
     "output_type": "error",
     "traceback": [
      "\u001b[1;31m---------------------------------------------------------------------------\u001b[0m",
      "\u001b[1;31mTypeError\u001b[0m                                 Traceback (most recent call last)",
      "\u001b[1;32mc:\\Users\\sansk\\OneDrive\\Documents\\Exposys Data Lab\\Ridge Regressioin.ipynb Cell 3'\u001b[0m in \u001b[0;36m<cell line: 6>\u001b[1;34m()\u001b[0m\n\u001b[0;32m      <a href='vscode-notebook-cell:/c%3A/Users/sansk/OneDrive/Documents/Exposys%20Data%20Lab/Ridge%20Regressioin.ipynb#ch0000002?line=2'>3</a>\u001b[0m c1 \u001b[39m=\u001b[39m \u001b[39m1.3\u001b[39m\n\u001b[0;32m      <a href='vscode-notebook-cell:/c%3A/Users/sansk/OneDrive/Documents/Exposys%20Data%20Lab/Ridge%20Regressioin.ipynb#ch0000002?line=3'>4</a>\u001b[0m c0 \u001b[39m=\u001b[39m \u001b[39m3.456\u001b[39m\n\u001b[1;32m----> <a href='vscode-notebook-cell:/c%3A/Users/sansk/OneDrive/Documents/Exposys%20Data%20Lab/Ridge%20Regressioin.ipynb#ch0000002?line=5'>6</a>\u001b[0m x_in \u001b[39m=\u001b[39m np\u001b[39m.\u001b[39;49mlinspace(\u001b[39m-\u001b[39;49m\u001b[39m10.0\u001b[39;49m, \u001b[39m20.2\u001b[39;49m, \u001b[39m200.0\u001b[39;49m)\n\u001b[0;32m      <a href='vscode-notebook-cell:/c%3A/Users/sansk/OneDrive/Documents/Exposys%20Data%20Lab/Ridge%20Regressioin.ipynb#ch0000002?line=6'>7</a>\u001b[0m y_out \u001b[39m=\u001b[39m c1 \u001b[39m*\u001b[39m x_in \u001b[39m*\u001b[39m\u001b[39m*\u001b[39m \u001b[39m2\u001b[39m \u001b[39m+\u001b[39m c1 \u001b[39m*\u001b[39m x_in \u001b[39m+\u001b[39m c0 \u001b[39m+\u001b[39m \u001b[39m500.0\u001b[39m \u001b[39m*\u001b[39m np\u001b[39m.\u001b[39mrandom\u001b[39m.\u001b[39mrand(\u001b[39mlen\u001b[39m(x_in))\n\u001b[0;32m      <a href='vscode-notebook-cell:/c%3A/Users/sansk/OneDrive/Documents/Exposys%20Data%20Lab/Ridge%20Regressioin.ipynb#ch0000002?line=8'>9</a>\u001b[0m plt\u001b[39m.\u001b[39mfigure()\n",
      "File \u001b[1;32m<__array_function__ internals>:180\u001b[0m, in \u001b[0;36mlinspace\u001b[1;34m(*args, **kwargs)\u001b[0m\n",
      "File \u001b[1;32mc:\\Users\\sansk\\AppData\\Local\\Programs\\Python\\Python310\\lib\\site-packages\\numpy\\core\\function_base.py:120\u001b[0m, in \u001b[0;36mlinspace\u001b[1;34m(start, stop, num, endpoint, retstep, dtype, axis)\u001b[0m\n\u001b[0;32m     23\u001b[0m \u001b[39m@array_function_dispatch\u001b[39m(_linspace_dispatcher)\n\u001b[0;32m     24\u001b[0m \u001b[39mdef\u001b[39;00m \u001b[39mlinspace\u001b[39m(start, stop, num\u001b[39m=\u001b[39m\u001b[39m50\u001b[39m, endpoint\u001b[39m=\u001b[39m\u001b[39mTrue\u001b[39;00m, retstep\u001b[39m=\u001b[39m\u001b[39mFalse\u001b[39;00m, dtype\u001b[39m=\u001b[39m\u001b[39mNone\u001b[39;00m,\n\u001b[0;32m     25\u001b[0m              axis\u001b[39m=\u001b[39m\u001b[39m0\u001b[39m):\n\u001b[0;32m     26\u001b[0m     \u001b[39m\"\"\"\u001b[39;00m\n\u001b[0;32m     27\u001b[0m \u001b[39m    Return evenly spaced numbers over a specified interval.\u001b[39;00m\n\u001b[0;32m     28\u001b[0m \n\u001b[1;32m   (...)\u001b[0m\n\u001b[0;32m    118\u001b[0m \n\u001b[0;32m    119\u001b[0m \u001b[39m    \"\"\"\u001b[39;00m\n\u001b[1;32m--> 120\u001b[0m     num \u001b[39m=\u001b[39m operator\u001b[39m.\u001b[39;49mindex(num)\n\u001b[0;32m    121\u001b[0m     \u001b[39mif\u001b[39;00m num \u001b[39m<\u001b[39m \u001b[39m0\u001b[39m:\n\u001b[0;32m    122\u001b[0m         \u001b[39mraise\u001b[39;00m \u001b[39mValueError\u001b[39;00m(\u001b[39m\"\u001b[39m\u001b[39mNumber of samples, \u001b[39m\u001b[39m%s\u001b[39;00m\u001b[39m, must be non-negative.\u001b[39m\u001b[39m\"\u001b[39m \u001b[39m%\u001b[39m num)\n",
      "\u001b[1;31mTypeError\u001b[0m: 'float' object cannot be interpreted as an integer"
     ]
    }
   ],
   "source": [
    "\"\"\" Generate fake data \"\"\"\n",
    "c2 = 0.01\n",
    "c1 = 1.3\n",
    "c0 = 3.456\n",
    "\n",
    "x_in = np.linspace(-10.0, 20.2, 200.0)\n",
    "y_out = c1 * x_in ** 2 + c1 * x_in + c0 + 500.0 * np.random.rand(len(x_in))\n",
    "\n",
    "plt.figure()\n",
    "plt.scatter(x_in, y_out)\n",
    "plt.xlabel('x')\n",
    "plt.ylabel('y')\n",
    "plt.show()\n"
   ]
  }
 ],
 "metadata": {
  "kernelspec": {
   "display_name": "Python 3.10.1 64-bit",
   "language": "python",
   "name": "python3"
  },
  "language_info": {
   "codemirror_mode": {
    "name": "ipython",
    "version": 3
   },
   "file_extension": ".py",
   "mimetype": "text/x-python",
   "name": "python",
   "nbconvert_exporter": "python",
   "pygments_lexer": "ipython3",
   "version": "3.10.1"
  },
  "orig_nbformat": 4,
  "vscode": {
   "interpreter": {
    "hash": "80ba4016e8ec853d7b55d6915013d2adae47c4b5f908295f8089a04cc277b65d"
   }
  }
 },
 "nbformat": 4,
 "nbformat_minor": 2
}
